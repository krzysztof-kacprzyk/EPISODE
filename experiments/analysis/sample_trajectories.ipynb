{
 "cells": [
  {
   "cell_type": "markdown",
   "id": "8f2eed65",
   "metadata": {},
   "source": [
    "# Requires running run_scripts/sample_trajectories.sh beforehand"
   ]
  },
  {
   "cell_type": "code",
   "execution_count": 5,
   "id": "a4b19ce7",
   "metadata": {},
   "outputs": [],
   "source": [
    "import os\n",
    "import shutil\n",
    "\n",
    "results_folder = \"../results\"\n",
    "datasets = ['PK','HIV','SIR']\n",
    "output_folder = \"output/fig_sample_trajectories\"\n",
    "file_formats = ['png', 'pdf', 'svg']\n",
    "\n",
    "# Create output folder if it doesn't exist\n",
    "if not os.path.exists(output_folder):\n",
    "    os.makedirs(output_folder)\n",
    "\n",
    "# Loop through each dataset and copy the corresponding files\n",
    "for dataset in datasets:\n",
    "    for file_format in file_formats:\n",
    "        for number in range(2):\n",
    "            src_file = os.path.join(results_folder, f\"{dataset}_plots\", f\"{dataset}_{number}.{file_format}\")\n",
    "            dst_file = os.path.join(output_folder, f\"{dataset}_plots\", f\"{dataset}_{number}.{file_format}\")\n",
    "            # Create the destination directory if it doesn't exist\n",
    "            os.makedirs(os.path.dirname(dst_file), exist_ok=True)\n",
    "            # Copy the file if it exists\n",
    "            if os.path.exists(src_file):\n",
    "                shutil.copy(src_file, dst_file)\n"
   ]
  },
  {
   "cell_type": "code",
   "execution_count": null,
   "id": "d7898f32",
   "metadata": {},
   "outputs": [],
   "source": []
  }
 ],
 "metadata": {
  "kernelspec": {
   "display_name": "psode",
   "language": "python",
   "name": "python3"
  },
  "language_info": {
   "codemirror_mode": {
    "name": "ipython",
    "version": 3
   },
   "file_extension": ".py",
   "mimetype": "text/x-python",
   "name": "python",
   "nbconvert_exporter": "python",
   "pygments_lexer": "ipython3",
   "version": "3.12.2"
  }
 },
 "nbformat": 4,
 "nbformat_minor": 5
}
