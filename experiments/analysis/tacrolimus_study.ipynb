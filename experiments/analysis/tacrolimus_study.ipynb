{
 "cells": [
  {
   "cell_type": "markdown",
   "id": "2465c28f",
   "metadata": {},
   "source": [
    "# Requires running run_scripts/tacrolimus_study.sh beforehand"
   ]
  },
  {
   "cell_type": "code",
   "execution_count": 1,
   "id": "7ea8efc6",
   "metadata": {},
   "outputs": [],
   "source": [
    "import os\n",
    "import pandas as pd\n",
    "from analysis_utils import *\n",
    "import shutil"
   ]
  },
  {
   "cell_type": "code",
   "execution_count": 2,
   "id": "50968bc6",
   "metadata": {},
   "outputs": [],
   "source": [
    "folder_path = os.path.join('../results','tacolimus')\n",
    "file_path = os.path.join(folder_path,'summary.csv')\n",
    "\n",
    "df = pd.read_csv(file_path)\n",
    "\n",
    "for idx in range(len(df)):\n",
    "    mean = df['mean'].values[idx]\n",
    "    std = df['std'].values[idx]\n",
    "    formatted_noise = f\"{std:.3f}\".lstrip('0')\n",
    "    df.loc[idx, 'score'] = fr\"${mean:.3f}_\"+\"{(\"+formatted_noise+r\")}$\"\n",
    "\n",
    "df = df.drop(columns=['mean', 'std'])\n",
    "\n",
    "output_folder = 'output/tab_tacrolimus_results'\n",
    "if not os.path.exists(output_folder):\n",
    "    os.makedirs(output_folder)\n",
    "\n",
    "# Save as a latex table\n",
    "with open(os.path.join(output_folder,'tacrolimus_results.tex'), 'w') as f:\n",
    "    f.write(df.to_latex(escape=False))\n",
    "\n",
    "# Save as a markdown table\n",
    "markdown_table = dataframe_to_markdown(df)\n",
    "with open(os.path.join(output_folder,'tacrolimus_results.md'), 'w') as f:\n",
    "    f.write(markdown_table)\n"
   ]
  },
  {
   "cell_type": "code",
   "execution_count": 4,
   "id": "7e2f3c47",
   "metadata": {},
   "outputs": [],
   "source": [
    "# Copy images to appropriate folders\n",
    "\n",
    "image_names = [\n",
    "    'tacrolimus_h_original',\n",
    "    'tacrolimus_h_0_loss',\n",
    "    'tacrolimus_h_0_loss_zeroed',\n",
    "    'tacrolimus_max_t_pruned',\n",
    "    'tacrolimus_max_x_pruned'\n",
    "]\n",
    "\n",
    "formats = ['pdf', 'svg']\n",
    "\n",
    "for image_name in image_names:\n",
    "    for fmt in formats:\n",
    "        src = os.path.join(folder_path,f\"{image_name}.{fmt}\")\n",
    "        dst = f\"output/fig_{image_name}/{image_name}.{fmt}\"\n",
    "        os.makedirs(os.path.dirname(dst), exist_ok=True)\n",
    "        shutil.copy(src, dst)"
   ]
  },
  {
   "cell_type": "code",
   "execution_count": 7,
   "id": "11862702",
   "metadata": {},
   "outputs": [
    {
     "name": "stdout",
     "output_type": "stream",
     "text": [
      "Equation found by SINDy:\n",
      "0.321 u5 + -21.543 u8 + -6.420 x0 u8 + -0.014 u5 u6 + 19.065 u8^2\n"
     ]
    }
   ],
   "source": [
    "# Show the equation found by SINDy\n",
    "\n",
    "# Read from the file\n",
    "file_name = 'equations.txt'\n",
    "\n",
    "equation_path = os.path.join(folder_path, file_name)\n",
    "if os.path.exists(equation_path):\n",
    "    with open(equation_path, 'r') as file:\n",
    "        equation = file.read().strip()\n",
    "    print(\"Equation found by SINDy:\")\n",
    "    print(equation)\n"
   ]
  },
  {
   "cell_type": "code",
   "execution_count": null,
   "id": "8f720361",
   "metadata": {},
   "outputs": [],
   "source": []
  }
 ],
 "metadata": {
  "kernelspec": {
   "display_name": "psode",
   "language": "python",
   "name": "python3"
  },
  "language_info": {
   "codemirror_mode": {
    "name": "ipython",
    "version": 3
   },
   "file_extension": ".py",
   "mimetype": "text/x-python",
   "name": "python",
   "nbconvert_exporter": "python",
   "pygments_lexer": "ipython3",
   "version": "3.12.2"
  }
 },
 "nbformat": 4,
 "nbformat_minor": 5
}
