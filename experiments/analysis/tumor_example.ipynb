{
 "cells": [
  {
   "cell_type": "markdown",
   "id": "b9022a53",
   "metadata": {},
   "source": [
    "# Requires running run_scripts/tumor_example.sh beforehand"
   ]
  },
  {
   "cell_type": "code",
   "execution_count": null,
   "id": "0bf66897",
   "metadata": {},
   "outputs": [],
   "source": [
    "import os\n",
    "import shutil"
   ]
  },
  {
   "cell_type": "code",
   "execution_count": null,
   "id": "26aeb07a",
   "metadata": {},
   "outputs": [
    {
     "name": "stdout",
     "output_type": "stream",
     "text": [
      "Copying composition_map.txt to output/fig_composition_map_tumor\n",
      "Node: [Feature 3 <= 0.19147154630332874]\n",
      "  -> Left:\n",
      "    Leaf: predicted class = 0\n",
      "    Leaf: class distribution = [0.06797274 0.09443278 0.92723268 0.93681108]\n",
      "  -> Right:\n",
      "    Node: [Feature 3 <= 0.482085624038749]\n",
      "      -> Left:\n",
      "        Leaf: predicted class = 1\n",
      "        Leaf: class distribution = [0.07730118 0.01531513 0.07453033 0.07551997]\n",
      "      -> Right:\n",
      "        Leaf: predicted class = 2\n",
      "        Leaf: class distribution = [0.17589689 0.01347622 0.00958798 0.00971658]\n",
      "\n"
     ]
    }
   ],
   "source": [
    "results_folder_path = \"../results/tumor_example\"\n",
    "composition_map_folder_path = \"output/fig_composition_map_tumor\"\n",
    "# Ensure the output folder exists \n",
    "if not os.path.exists(composition_map_folder_path):\n",
    "    os.makedirs(composition_map_folder_path)\n",
    "\n",
    "composition_description_file_name = \"composition_map.txt\"\n",
    "composition_description_file_path = os.path.join(results_folder_path, composition_description_file_name)\n",
    "\n",
    "# Print and then copy the composition description file\n",
    "print(f\"Copying {composition_description_file_name} to {composition_map_folder_path}\")\n",
    "shutil.copy(composition_description_file_path, composition_map_folder_path)\n",
    "# Print the contents of the composition description file\n",
    "with open(composition_description_file_path, 'r') as file:\n",
    "    content = file.read()\n",
    "    print(content)"
   ]
  },
  {
   "cell_type": "code",
   "execution_count": null,
   "id": "78c4b45b",
   "metadata": {},
   "outputs": [
    {
     "name": "stdout",
     "output_type": "stream",
     "text": [
      "Copying tumor_min_gam.pdf to output/fig_property_map_tumor\n",
      "Copying tumor_min_gam.svg to output/fig_property_map_tumor\n"
     ]
    }
   ],
   "source": [
    "file_name = \"tumor_min_gam\"\n",
    "file_formats = ['pdf','svg']\n",
    "property_map_folder_path = \"output/fig_property_map_tumor\"\n",
    "# Ensure the property map folder exists\n",
    "if not os.path.exists(property_map_folder_path):\n",
    "    os.makedirs(property_map_folder_path)\n",
    "\n",
    "# Copy the files with the specified formats\n",
    "for file_format in file_formats:\n",
    "    source_file_path = os.path.join(results_folder_path, f\"{file_name}.{file_format}\")\n",
    "    destination_file_path = os.path.join(property_map_folder_path, f\"{file_name}.{file_format}\")\n",
    "    if os.path.exists(source_file_path):\n",
    "        print(f\"Copying {file_name}.{file_format} to {property_map_folder_path}\")\n",
    "        shutil.copy(source_file_path, destination_file_path)\n",
    "    else:\n",
    "        print(f\"File {source_file_path} does not exist.\")"
   ]
  },
  {
   "cell_type": "code",
   "execution_count": null,
   "id": "1212410f",
   "metadata": {},
   "outputs": [],
   "source": []
  }
 ],
 "metadata": {
  "kernelspec": {
   "display_name": "psode",
   "language": "python",
   "name": "python3"
  },
  "language_info": {
   "codemirror_mode": {
    "name": "ipython",
    "version": 3
   },
   "file_extension": ".py",
   "mimetype": "text/x-python",
   "name": "python",
   "nbconvert_exporter": "python",
   "pygments_lexer": "ipython3",
   "version": "3.12.2"
  }
 },
 "nbformat": 4,
 "nbformat_minor": 5
}
